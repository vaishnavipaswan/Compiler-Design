{
 "cells": [
  {
   "cell_type": "code",
   "execution_count": 8,
   "id": "a07045c1-d791-4962-854b-17ba0a66eb40",
   "metadata": {},
   "outputs": [],
   "source": [
    "from collections import defaultdict"
   ]
  },
  {
   "cell_type": "code",
   "execution_count": 10,
   "id": "43439799-36f1-4b31-807a-f3835b7b03b8",
   "metadata": {},
   "outputs": [],
   "source": [
    "grammar = {'A': ['SB', 'B'],'S': ['a', 'Bc', 'ε'],'B': ['b', 'd']}"
   ]
  },
  {
   "cell_type": "code",
   "execution_count": 12,
   "id": "f66c8bc5-9f35-4759-a3c5-c2d5337ba597",
   "metadata": {},
   "outputs": [],
   "source": [
    "def first(symbol):\n",
    "    if symbol in first_set:\n",
    "        return first_set[symbol]\n",
    "    if not symbol.isupper():\n",
    "        return {symbol}\n",
    "    first_set[symbol] = set()\n",
    "    for production in grammar[symbol]:\n",
    "        has_epsilon = True\n",
    "        for char in production:\n",
    "            char_first = first(char)\n",
    "            first_set[symbol].update(char_first - {'ε'})\n",
    "            if 'ε' not in char_first:\n",
    "                has_epsilon = False\n",
    "                break\n",
    "        if has_epsilon:\n",
    "            first_set[symbol].add('ε')\n",
    "    return first_set[symbol]"
   ]
  },
  {
   "cell_type": "code",
   "execution_count": 14,
   "id": "e9e5a341-ab39-4e80-998d-8ebe36635c77",
   "metadata": {},
   "outputs": [
    {
     "name": "stdout",
     "output_type": "stream",
     "text": [
      "FIRST(A) = {'a', 'b', 'd'}\n",
      "FIRST(S) = {'ε', 'a', 'b', 'd'}\n",
      "FIRST(B) = {'d', 'b'}\n"
     ]
    }
   ],
   "source": [
    "first_set = {}\n",
    "for non_terminal in grammar:\n",
    "    first(non_terminal)\n",
    "    print(f\"FIRST({non_terminal}) = {first_set[non_terminal]}\")"
   ]
  },
  {
   "cell_type": "code",
   "execution_count": 16,
   "id": "f4247651-20e3-4f8e-a43d-9f615da72891",
   "metadata": {},
   "outputs": [],
   "source": [
    "follow_set={}"
   ]
  },
  {
   "cell_type": "code",
   "execution_count": 18,
   "id": "fcf8db3c-53cd-4006-9f7c-793d000b31b2",
   "metadata": {},
   "outputs": [],
   "source": [
    "def follow(symbol, start_symbol='A'):\n",
    "    if symbol in follow_set:\n",
    "        return follow_set[symbol]\n",
    "    follow_set[symbol] = set()\n",
    "    if symbol == start_symbol:  \n",
    "        follow_set[symbol].add('$')\n",
    "    for lhs, rhs_list in grammar.items():\n",
    "        for rhs in rhs_list: \n",
    "            for i, sym in enumerate(rhs):\n",
    "                if sym == symbol:  \n",
    "                    if i + 1 < len(rhs): \n",
    "                        next_symbol = rhs[i + 1]\n",
    "                        first_next = first(next_symbol) \n",
    "                        follow_set[symbol].update(first_next - {'ε'}) \n",
    "                        if 'ε' in first_next: \n",
    "                            follow_set[symbol].update(follow(lhs))\n",
    "                    else:  \n",
    "                        if lhs != symbol:  \n",
    "                            follow_set[symbol].update(follow(lhs))\n",
    "    return follow_set[symbol]"
   ]
  },
  {
   "cell_type": "code",
   "execution_count": 20,
   "id": "298dfaf9-4cd7-4074-9308-7eb79bbbea70",
   "metadata": {},
   "outputs": [
    {
     "name": "stdout",
     "output_type": "stream",
     "text": [
      "FOLLOW sets:\n",
      "FOLLOW(A) = {'$'}\n",
      "FOLLOW(S) = {'d', 'b'}\n",
      "FOLLOW(B) = {'c', '$'}\n"
     ]
    }
   ],
   "source": [
    "for non_terminal in grammar:\n",
    "    follow(non_terminal)\n",
    "print(\"FOLLOW sets:\")\n",
    "for nt, f_set in follow_set.items():\n",
    "    print(f\"FOLLOW({nt}) = {f_set}\")"
   ]
  },
  {
   "cell_type": "code",
   "execution_count": 39,
   "id": "131e6e99-133b-4592-80c5-900adfc63bf3",
   "metadata": {},
   "outputs": [],
   "source": [
    "parsing_table = defaultdict(dict)"
   ]
  },
  {
   "cell_type": "code",
   "execution_count": 49,
   "id": "fc16c12e-440b-4c4e-80a6-47131567469d",
   "metadata": {},
   "outputs": [],
   "source": [
    "for lhs, rhs_list in grammar.items():\n",
    "    for rhs in rhs_list:\n",
    "        first_rhs = set()\n",
    "        has_epsilon = True\n",
    "        for char in rhs:\n",
    "            char_first = first(char)\n",
    "            first_rhs.update(char_first - {'ε'})\n",
    "            if 'ε' not in char_first:\n",
    "                has_epsilon = False\n",
    "                break\n",
    "        if has_epsilon:\n",
    "            first_rhs.add('ε')\n",
    "        for terminal in first_rhs - {'ε'}:\n",
    "            parsing_table[lhs][terminal] = rhs\n",
    "        if 'ε' in first_rhs:\n",
    "            for terminal in follow_set[lhs]:\n",
    "                parsing_table[lhs][terminal] = rhs"
   ]
  },
  {
   "cell_type": "code",
   "execution_count": 74,
   "id": "57e70f78-b432-4906-8ee7-ceb4c15f3a3c",
   "metadata": {},
   "outputs": [],
   "source": [
    "parsing_table = defaultdict(lambda: defaultdict(str))\n",
    "\n",
    "for lhs, rhs_list in grammar.items():\n",
    "    for rhs in rhs_list:\n",
    "        first_rhs = set()\n",
    "        has_epsilon = True\n",
    "        for char in rhs:\n",
    "            char_first = first(char)\n",
    "            first_rhs.update(char_first - {'ε'})\n",
    "            if 'ε' not in char_first:\n",
    "                has_epsilon = False\n",
    "                break\n",
    "        if has_epsilon:\n",
    "            first_rhs.add('ε')\n",
    "        for terminal in first_rhs - {'ε'}:\n",
    "            parsing_table[lhs][terminal] = f\"{lhs} → {rhs}\"\n",
    "        if 'ε' in first_rhs:\n",
    "            for terminal in follow_set[lhs]:\n",
    "                parsing_table[lhs][terminal] = f\"{lhs} → {rhs}\""
   ]
  },
  {
   "cell_type": "code",
   "execution_count": 102,
   "id": "d3d578b6-9ebb-4f09-9cd6-84a9c4d24211",
   "metadata": {},
   "outputs": [
    {
     "name": "stdout",
     "output_type": "stream",
     "text": [
      "Parsing Table:\n",
      "NT    | a     | b     | d    \n",
      "----------------------------\n",
      "A     | A → SB | A → B | A → B\n",
      "S     | S → a | S → ε | S → ε\n",
      "B     |       | B → b | B → d\n"
     ]
    }
   ],
   "source": [
    "print(\"Parsing Table:\")\n",
    "terminals = sorted(set(t for row in parsing_table.values() for t in row.keys()))\n",
    "print(f\"{'NT':<5} | \" + \" | \".join(f\"{t:<5}\" for t in terminals))\n",
    "print(\"-\" * (7 + 7 * len(terminals)))\n",
    "\n",
    "for nt in grammar.keys():\n",
    "    row = [parsing_table[nt].get(t, \"\") for t in terminals]\n",
    "    print(f\"{nt:<5} | \" + \" | \".join(f\"{entry:<5}\" for entry in row))"
   ]
  },
  {
   "cell_type": "code",
   "execution_count": null,
   "id": "75ae4c7e-98e1-4168-8b67-843f0e375f46",
   "metadata": {},
   "outputs": [],
   "source": []
  }
 ],
 "metadata": {
  "kernelspec": {
   "display_name": "Python 3 (ipykernel)",
   "language": "python",
   "name": "python3"
  },
  "language_info": {
   "codemirror_mode": {
    "name": "ipython",
    "version": 3
   },
   "file_extension": ".py",
   "mimetype": "text/x-python",
   "name": "python",
   "nbconvert_exporter": "python",
   "pygments_lexer": "ipython3",
   "version": "3.12.4"
  }
 },
 "nbformat": 4,
 "nbformat_minor": 5
}
