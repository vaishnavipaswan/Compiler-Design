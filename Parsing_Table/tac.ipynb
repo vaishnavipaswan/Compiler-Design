{
 "cells": [
  {
   "cell_type": "markdown",
   "id": "34df3a68-f58a-4b35-86ea-d8c57eaceb37",
   "metadata": {},
   "source": [
    "# NAME: VAISHNAVI PASWAN\n",
    "# BATCH: B1\n",
    "# ROLL NO: 13\n",
    "# AIM:Write a program to generate three address code for the given language construct using SDTS.."
   ]
  },
  {
   "cell_type": "code",
   "execution_count": 60,
   "id": "6821cf74-21ca-4259-ad78-767e458c0385",
   "metadata": {},
   "outputs": [],
   "source": [
    "temp_count=1\n",
    "instruction_count=100 \n",
    "code=[] "
   ]
  },
  {
   "cell_type": "code",
   "execution_count": 62,
   "id": "ac0fc591-85ee-4bb6-8274-b323bb8ca8c6",
   "metadata": {},
   "outputs": [],
   "source": [
    "def new_temp():\n",
    "    global temp_count\n",
    "    temp_var=f'T{temp_count}'\n",
    "    temp_count+=1\n",
    "    return temp_var"
   ]
  },
  {
   "cell_type": "code",
   "execution_count": 64,
   "id": "98df6ea8-13e0-461c-9839-67f6c46bb5d6",
   "metadata": {},
   "outputs": [],
   "source": [
    "def generate_if_else(condition,true_block,false_block):\n",
    "    global instruction_count\n",
    "    label_true=instruction_count + 2\n",
    "    label_false=label_true+len(true_block)*2+1\n",
    "    label_end=label_false+len(false_block)*2\n",
    "    code.append(f'{instruction_count}) if ({condition}) goto {label_true}')\n",
    "    instruction_count+=1\n",
    "    code.append(f'{instruction_count}) goto {label_false}')\n",
    "    instruction_count+=1\n",
    "    for stmt in true_block:\n",
    "        expr=stmt.split('=')\n",
    "        temp_var=new_temp()\n",
    "        code.append(f'{instruction_count}) {temp_var}={expr[1]}')\n",
    "        instruction_count+= 1\n",
    "        code.append(f'{instruction_count}) {expr[0]}={temp_var}')\n",
    "        instruction_count+= 1   \n",
    "    code.append(f'{instruction_count}) goto {label_end}')\n",
    "    instruction_count+= 1\n",
    "    for stmt in false_block:\n",
    "        expr=stmt.split('=')\n",
    "        temp_var=new_temp()\n",
    "        code.append(f'{instruction_count}) {temp_var}={expr[1]}')\n",
    "        instruction_count+=1\n",
    "        code.append(f'{instruction_count}) {expr[0]}={temp_var}')\n",
    "        instruction_count+=1\n",
    "    code.append(f'{instruction_count}) END')"
   ]
  },
  {
   "cell_type": "code",
   "execution_count": 51,
   "id": "d12cc5b3-b39b-446e-a5bd-dbf48436b461",
   "metadata": {},
   "outputs": [],
   "source": [
    "def print_code():\n",
    "    for instr in code:\n",
    "        print(instr)"
   ]
  },
  {
   "cell_type": "code",
   "execution_count": 66,
   "id": "8d9c92e7-093d-4a9a-8c3b-5346e8fe6036",
   "metadata": {},
   "outputs": [],
   "source": [
    "condition='a<5'\n",
    "true_block=['c=b+d','d=i+j']\n",
    "false_block=['d=a+b','k=x+y']"
   ]
  },
  {
   "cell_type": "code",
   "execution_count": 68,
   "id": "5b3cfc02-d08e-4bfa-9b31-d6a49e82f1da",
   "metadata": {},
   "outputs": [
    {
     "name": "stdout",
     "output_type": "stream",
     "text": [
      "100) if (a<5) goto 102\n",
      "101) goto 107\n",
      "102) T1=b+d\n",
      "103) c=T1\n",
      "104) T2=i+j\n",
      "105) d=T2\n",
      "106) goto 111\n",
      "107) T3=a+b\n",
      "108) d=T3\n",
      "109) T4=x+y\n",
      "110) k=T4\n",
      "111) END\n"
     ]
    }
   ],
   "source": [
    "generate_if_else(condition, true_block, false_block)\n",
    "print_code()"
   ]
  },
  {
   "cell_type": "code",
   "execution_count": null,
   "id": "3bef2a40-6eb8-4a02-8bb0-5e24512c2778",
   "metadata": {},
   "outputs": [],
   "source": []
  }
 ],
 "metadata": {
  "kernelspec": {
   "display_name": "Python 3 (ipykernel)",
   "language": "python",
   "name": "python3"
  },
  "language_info": {
   "codemirror_mode": {
    "name": "ipython",
    "version": 3
   },
   "file_extension": ".py",
   "mimetype": "text/x-python",
   "name": "python",
   "nbconvert_exporter": "python",
   "pygments_lexer": "ipython3",
   "version": "3.12.4"
  }
 },
 "nbformat": 4,
 "nbformat_minor": 5
}
