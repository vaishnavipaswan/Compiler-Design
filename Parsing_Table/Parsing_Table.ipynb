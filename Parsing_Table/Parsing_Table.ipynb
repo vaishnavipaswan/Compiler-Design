{
 "cells": [
  {
   "cell_type": "code",
   "execution_count": 3,
   "id": "bc04a9b0-7925-4aaa-8349-bfc702e73d01",
   "metadata": {},
   "outputs": [],
   "source": [
    "from collections import defaultdict\n",
    "from tabulate import tabulate"
   ]
  },
  {
   "cell_type": "code",
   "execution_count": 5,
   "id": "c5cef345-be6f-42f3-95df-bafab9f2676f",
   "metadata": {},
   "outputs": [],
   "source": [
    "grammar = {'A': ['SB', 'B'],'S': ['a', 'Bc', 'ε'],'B': ['b', 'd']}"
   ]
  },
  {
   "cell_type": "code",
   "execution_count": 7,
   "id": "4d6a73bf-340e-4712-9785-952b55bbe8bf",
   "metadata": {},
   "outputs": [],
   "source": [
    "def first(symbol, computed_first={}):\n",
    "    if symbol in computed_first:\n",
    "        return computed_first[symbol]\n",
    "    if not symbol.isupper(): \n",
    "        return {symbol}\n",
    "    computed_first[symbol] = set()\n",
    "    for production in grammar[symbol]:\n",
    "        has_epsilon = True\n",
    "        for char in production:\n",
    "            if char in grammar:\n",
    "                char_first = first(char, computed_first)\n",
    "                computed_first[symbol].update(char_first - {'ε'})\n",
    "                if 'ε' not in char_first:\n",
    "                    has_epsilon = False\n",
    "                    break\n",
    "            else:\n",
    "                computed_first[symbol].add(char)\n",
    "                has_epsilon = False\n",
    "                break\n",
    "        if has_epsilon:\n",
    "            computed_first[symbol].add('ε')\n",
    "    return computed_first[symbol]"
   ]
  },
  {
   "cell_type": "code",
   "execution_count": 9,
   "id": "ec1ab9e3-d751-4b5e-81d9-8bfaa082cd18",
   "metadata": {},
   "outputs": [
    {
     "data": {
      "text/plain": [
       "{'A': {'a', 'b', 'd'}, 'S': {'a', 'b', 'd', 'ε'}, 'B': {'b', 'd'}}"
      ]
     },
     "execution_count": 9,
     "metadata": {},
     "output_type": "execute_result"
    }
   ],
   "source": [
    "first_set = {nt: first(nt) for nt in grammar}\n",
    "first_set"
   ]
  },
  {
   "cell_type": "code",
   "execution_count": 11,
   "id": "f26e2112-e72b-4f76-b106-4bc148e15c44",
   "metadata": {},
   "outputs": [],
   "source": [
    "follow_set = defaultdict(set)\n",
    "follow_set['A'].add('$') "
   ]
  },
  {
   "cell_type": "code",
   "execution_count": 13,
   "id": "3c6babc6-d3d8-4e3f-9b88-5366d5385eab",
   "metadata": {},
   "outputs": [],
   "source": [
    "def follow(symbol):\n",
    "    for lhs, productions in grammar.items():\n",
    "        for production in productions:\n",
    "            for i, char in enumerate(production):\n",
    "                if char == symbol:\n",
    "                    if i + 1 < len(production):\n",
    "                        next_symbol = production[i + 1]\n",
    "                        if next_symbol in grammar:\n",
    "                            follow_set[char].update(first_set[next_symbol] - {'ε'})\n",
    "                        else:\n",
    "                            follow_set[char].add(next_symbol)\n",
    "                    if i + 1 == len(production) or ('ε' in first_set.get(production[i + 1], {})):\n",
    "                        follow_set[char].update(follow_set[lhs])"
   ]
  },
  {
   "cell_type": "code",
   "execution_count": 15,
   "id": "da2522b5-76ce-4339-88a4-a2746c6bf54f",
   "metadata": {},
   "outputs": [
    {
     "name": "stdout",
     "output_type": "stream",
     "text": [
      "follow_set = {'A': {'$'}, 'S': {'b', 'd'}, 'B': {'c', '$'}}\n"
     ]
    }
   ],
   "source": [
    "for _ in range(len(grammar)):\n",
    "    for non_terminal in grammar:\n",
    "        follow(non_terminal)\n",
    "\n",
    "print(\"follow_set =\", dict(follow_set))"
   ]
  },
  {
   "cell_type": "code",
   "execution_count": 17,
   "id": "5c2447ba-bc71-440c-849b-2c924020a67f",
   "metadata": {},
   "outputs": [],
   "source": [
    "terminals = set()\n",
    "for _, productions in grammar.items():\n",
    "    for production in productions:\n",
    "        for symbol in production:\n",
    "            if not symbol.isupper() and symbol != 'ε':\n",
    "                terminals.add(symbol)\n",
    "terminals.add('$')"
   ]
  },
  {
   "cell_type": "code",
   "execution_count": 19,
   "id": "7a15560f-2687-4034-bcb1-ea50336d5f22",
   "metadata": {},
   "outputs": [],
   "source": [
    "table = defaultdict(lambda: {t: \"\" for t in terminals})\n",
    "for non_terminal, productions in grammar.items():\n",
    "    for production in productions:\n",
    "        first_of_production = first(production[0])\n",
    "        for terminal in first_of_production - {'ε'}:\n",
    "            if table[non_terminal][terminal]: \n",
    "                table[non_terminal][terminal] += f\", {non_terminal} -> {production}\"\n",
    "            else:\n",
    "                table[non_terminal][terminal] = f\"{non_terminal} -> {production}\"\n",
    "        if 'ε' in first_of_production:\n",
    "            for terminal in follow_set[non_terminal]:\n",
    "                if table[non_terminal][terminal]:\n",
    "                    table[non_terminal][terminal] += f\", {non_terminal} -> {production}\"\n",
    "                else:\n",
    "                    table[non_terminal][terminal] = f\"{non_terminal} -> {production}\""
   ]
  },
  {
   "cell_type": "code",
   "execution_count": 21,
   "id": "086074c5-f4fb-44ac-96e4-3e372913c04c",
   "metadata": {},
   "outputs": [
    {
     "name": "stdout",
     "output_type": "stream",
     "text": [
      "LL(1) Parsing Table:\n",
      "+---------------+---------+-----------------+---------+-----------------+-----+\n",
      "| Terminal/NT   | $       | d               | a       | b               | c   |\n",
      "+===============+=========+=================+=========+=================+=====+\n",
      "| A             | A -> SB | A -> SB, A -> B | A -> SB | A -> SB, A -> B |     |\n",
      "+---------------+---------+-----------------+---------+-----------------+-----+\n",
      "| S             |         | S -> Bc, S -> ε | S -> a  | S -> Bc, S -> ε |     |\n",
      "+---------------+---------+-----------------+---------+-----------------+-----+\n",
      "| B             |         | B -> d          |         | B -> b          |     |\n",
      "+---------------+---------+-----------------+---------+-----------------+-----+\n"
     ]
    }
   ],
   "source": [
    "table_data = [[nt] + [table[nt][t] for t in terminals] for nt in grammar]\n",
    "headers = [\"Terminal/NT\"] + list(terminals)\n",
    "print(\"LL(1) Parsing Table:\")\n",
    "print(tabulate(table_data, headers=headers, tablefmt=\"grid\"))"
   ]
  },
  {
   "cell_type": "code",
   "execution_count": 23,
   "id": "1d268c9c-50fb-4a9a-912c-b07225c28043",
   "metadata": {},
   "outputs": [],
   "source": [
    "def parse_string(input_string):\n",
    "    stack = ['$', 'A'] \n",
    "    input_string += '$'  \n",
    "    index = 0\n",
    "    steps = []\n",
    "\n",
    "    while stack:\n",
    "        top = stack.pop()\n",
    "        buffer = input_string[index:]\n",
    "        if top == input_string[index]:\n",
    "            steps.append((\"\".join(stack), buffer, f\"Match {top}\"))\n",
    "            index += 1\n",
    "        elif top in grammar:\n",
    "            if table[top][input_string[index]]:\n",
    "                productions = table[top][input_string[index]].split(', ')\n",
    "                if len(productions) > 1:\n",
    "                    return False, steps \n",
    "                production = productions[0]\n",
    "                steps.append((\"\".join(stack), buffer, f\"Apply {production}\"))\n",
    "                for symbol in reversed(production.split(' -> ')[1]):\n",
    "                    if symbol != 'ε':\n",
    "                        stack.append(symbol)\n",
    "            else:\n",
    "                return False, steps\n",
    "        else:\n",
    "            return False, steps\n",
    "    return index == len(input_string), steps"
   ]
  },
  {
   "cell_type": "code",
   "execution_count": 25,
   "id": "ad4a7103-2290-4714-a66a-5ce5f3e0a622",
   "metadata": {},
   "outputs": [
    {
     "name": "stdout",
     "output_type": "stream",
     "text": [
      "String 'ab' is Accepted\n",
      "\n",
      "Parsing Steps:\n",
      "+---------+----------+---------------+\n",
      "| Stack   | Buffer   | Action        |\n",
      "+=========+==========+===============+\n",
      "| $       | ab$      | Apply A -> SB |\n",
      "+---------+----------+---------------+\n",
      "| $B      | ab$      | Apply S -> a  |\n",
      "+---------+----------+---------------+\n",
      "| $B      | ab$      | Match a       |\n",
      "+---------+----------+---------------+\n",
      "| $       | b$       | Apply B -> b  |\n",
      "+---------+----------+---------------+\n",
      "| $       | b$       | Match b       |\n",
      "+---------+----------+---------------+\n",
      "|         | $        | Match $       |\n",
      "+---------+----------+---------------+\n"
     ]
    }
   ],
   "source": [
    "# Valid String Case\n",
    "input_string = \"ab\"\n",
    "accepted, steps = parse_string(input_string)\n",
    "print(f\"String '{input_string}' is\", \"Accepted\" if accepted else \"Rejected\")\n",
    "print(\"\\nParsing Steps:\")\n",
    "headers = [\"Stack\", \"Buffer\", \"Action\"]\n",
    "print(tabulate(steps, headers=headers, tablefmt=\"grid\"))"
   ]
  },
  {
   "cell_type": "code",
   "execution_count": 27,
   "id": "47dea85e-85f1-429e-9dcc-52d372798f77",
   "metadata": {},
   "outputs": [
    {
     "name": "stdout",
     "output_type": "stream",
     "text": [
      "String 'abd' is Rejected\n",
      "\n",
      "Parsing Steps:\n",
      "+---------+----------+---------------+\n",
      "| Stack   | Buffer   | Action        |\n",
      "+=========+==========+===============+\n",
      "| $       | abd$     | Apply A -> SB |\n",
      "+---------+----------+---------------+\n",
      "| $B      | abd$     | Apply S -> a  |\n",
      "+---------+----------+---------------+\n",
      "| $B      | abd$     | Match a       |\n",
      "+---------+----------+---------------+\n",
      "| $       | bd$      | Apply B -> b  |\n",
      "+---------+----------+---------------+\n",
      "| $       | bd$      | Match b       |\n",
      "+---------+----------+---------------+\n"
     ]
    }
   ],
   "source": [
    "# Invalid String Case\n",
    "input_string = \"abd\"\n",
    "accepted, steps = parse_string(input_string)\n",
    "print(f\"String '{input_string}' is\", \"Accepted\" if accepted else \"Rejected\")\n",
    "print(\"\\nParsing Steps:\")\n",
    "headers = [\"Stack\", \"Buffer\", \"Action\"]\n",
    "print(tabulate(steps, headers=headers, tablefmt=\"grid\"))"
   ]
  },
  {
   "cell_type": "code",
   "execution_count": null,
   "id": "85954a88-fff9-4cae-98f6-66f358739d17",
   "metadata": {},
   "outputs": [],
   "source": []
  }
 ],
 "metadata": {
  "kernelspec": {
   "display_name": "Python 3 (ipykernel)",
   "language": "python",
   "name": "python3"
  },
  "language_info": {
   "codemirror_mode": {
    "name": "ipython",
    "version": 3
   },
   "file_extension": ".py",
   "mimetype": "text/x-python",
   "name": "python",
   "nbconvert_exporter": "python",
   "pygments_lexer": "ipython3",
   "version": "3.12.4"
  }
 },
 "nbformat": 4,
 "nbformat_minor": 5
}
