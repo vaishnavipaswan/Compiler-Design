{
 "cells": [
  {
   "cell_type": "code",
   "execution_count": 125,
   "id": "a675271e-b580-42f8-a7d9-be0f0db97ed1",
   "metadata": {},
   "outputs": [],
   "source": [
    "from tabulate import tabulate"
   ]
  },
  {
   "cell_type": "code",
   "execution_count": 127,
   "id": "caf82d7e-872b-4f1b-9bfd-df4ea63b43d1",
   "metadata": {},
   "outputs": [],
   "source": [
    "available_registers=[\"R0\",\"R1\"]\n",
    "register_status={reg:None for reg in available_registers}\n",
    "usage_count={reg: 0 for reg in available_registers}  \n",
    "address_descriptor={}  \n",
    "instruction_costs={\"MOV\":1,\"ADD\":3,\"SUB\":3}  "
   ]
  },
  {
   "cell_type": "code",
   "execution_count": 129,
   "id": "c9b58336-4897-44ea-9071-36dce4c641e8",
   "metadata": {},
   "outputs": [],
   "source": [
    "def getreg():\n",
    "    for reg,value in register_status.items():\n",
    "        if value is None:\n",
    "            return reg\n",
    "    least_used_reg=min(usage_count,key=usage_count.get)\n",
    "    register_status[least_used_reg]=None\n",
    "    return least_used_reg"
   ]
  },
  {
   "cell_type": "code",
   "execution_count": 131,
   "id": "08137ed1-272b-4732-b0df-9d1d460921d1",
   "metadata": {},
   "outputs": [],
   "source": [
    "def free_reg(reg):\n",
    "    if reg in register_status:\n",
    "        register_status[reg]=None\n",
    "        usage_count[reg]=0"
   ]
  },
  {
   "cell_type": "code",
   "execution_count": 155,
   "id": "76f9a058-455f-4b8d-ba41-925ba74ebb69",
   "metadata": {},
   "outputs": [],
   "source": [
    "def generate_code(statements):\n",
    "    table_data=[]\n",
    "    reg_map={}\n",
    "    instruction_list=[]\n",
    "    total_cost=0\n",
    "    for stmt in statements:\n",
    "        dest,expr=stmt.split(\"=\")\n",
    "        operands=expr.split(\" \")\n",
    "        reg=getreg()     \n",
    "        register_status[reg]=dest  \n",
    "        reg_map[dest]=reg\n",
    "        usage_count[reg]+=1 \n",
    "        address_descriptor[dest]=f\"{dest} in {reg}\"        \n",
    "        instructions=[]\n",
    "        cost=0       \n",
    "        if operands[1]==\"+\":\n",
    "            instructions.append(f\"MOV {operands[0]},{reg}\")\n",
    "            cost+=instruction_costs[\"MOV\"]\n",
    "            instructions.append(f\"ADD {operands[2]},{reg}\")\n",
    "            cost+=instruction_costs[\"ADD\"]\n",
    "        elif operands[1]==\"-\":\n",
    "            instructions.append(f\"MOV {operands[0]},{reg}\")\n",
    "            cost+=instruction_costs[\"MOV\"]\n",
    "            instructions.append(f\"SUB {operands[2]},{reg}\")\n",
    "            cost+=instruction_costs[\"SUB\"]        \n",
    "        instruction_list.extend(instructions)        \n",
    "        table_data.append([stmt,reg,\"\\n\".join(instructions),cost,f\"{reg} holds {dest}\",address_descriptor[dest]])\n",
    "        total_cost+=cost       \n",
    "    headers=[\"Statement\",\"Register\",\"Instructions\",\"Cost\",\"Register Descriptor\",\"Address Descriptor\"]\n",
    "    print(tabulate(table_data,headers,tablefmt=\"grid\"))\n",
    "    print(\"\\nTotal Cost:\",total_cost)"
   ]
  },
  {
   "cell_type": "code",
   "execution_count": 157,
   "id": "a550761f-7176-446f-bf5c-85614b8d6332",
   "metadata": {},
   "outputs": [
    {
     "name": "stdout",
     "output_type": "stream",
     "text": [
      "+--------------+------------+----------------+--------+-----------------------+----------------------+\n",
      "| Statement    | Register   | Instructions   |   Cost | Register Descriptor   | Address Descriptor   |\n",
      "+==============+============+================+========+=======================+======================+\n",
      "| T1 = a + b   | R0         | MOV a, R0      |      4 | R0 holds T1           | T1 in R0             |\n",
      "|              |            | ADD b, R0      |        |                       |                      |\n",
      "+--------------+------------+----------------+--------+-----------------------+----------------------+\n",
      "| T2 = c + d   | R1         | MOV c, R1      |      4 | R1 holds T2           | T2 in R1             |\n",
      "|              |            | ADD d, R1      |        |                       |                      |\n",
      "+--------------+------------+----------------+--------+-----------------------+----------------------+\n",
      "| T3 = e - T2  | R0         | MOV e, R0      |      4 | R0 holds T3           | T3 in R0             |\n",
      "|              |            | SUB T2, R0     |        |                       |                      |\n",
      "+--------------+------------+----------------+--------+-----------------------+----------------------+\n",
      "| T4 = T1 - T3 | R1         | MOV T1, R1     |      4 | R1 holds T4           | T4 in R1             |\n",
      "|              |            | SUB T3, R1     |        |                       |                      |\n",
      "+--------------+------------+----------------+--------+-----------------------+----------------------+\n",
      "\n",
      "Total Cost: 16\n"
     ]
    }
   ],
   "source": [
    "statements=[\"T1 = a + b\",\"T2 = c + d\",\"T3 = e - T2\",\"T4 = T1 - T3\"]\n",
    "generate_code(statements)"
   ]
  },
  {
   "cell_type": "code",
   "execution_count": null,
   "id": "8709943c-2f90-4d48-9804-5d173bb3a860",
   "metadata": {},
   "outputs": [],
   "source": []
  }
 ],
 "metadata": {
  "kernelspec": {
   "display_name": "Python 3 (ipykernel)",
   "language": "python",
   "name": "python3"
  },
  "language_info": {
   "codemirror_mode": {
    "name": "ipython",
    "version": 3
   },
   "file_extension": ".py",
   "mimetype": "text/x-python",
   "name": "python",
   "nbconvert_exporter": "python",
   "pygments_lexer": "ipython3",
   "version": "3.12.4"
  }
 },
 "nbformat": 4,
 "nbformat_minor": 5
}
