{
 "cells": [
  {
   "cell_type": "code",
   "execution_count": 71,
   "id": "350dcbd2-5240-4f69-ad2c-84a8dca657bb",
   "metadata": {},
   "outputs": [],
   "source": [
    "def identify_leaders(tac):\n",
    "    leaders={0}\n",
    "    for i,line in enumerate(tac):\n",
    "        if 'GOTO' in line:\n",
    "            target=int(line.split('GOTO')[1].strip())-1\n",
    "            leaders.add(target)\n",
    "            if i+1<len(tac):\n",
    "                leaders.add(i+1)\n",
    "    return sorted(leaders)"
   ]
  },
  {
   "cell_type": "code",
   "execution_count": 73,
   "id": "c2496a5d-4eb6-4322-a856-551f0b4a5707",
   "metadata": {},
   "outputs": [],
   "source": [
    "def create_basic_blocks(tac, leaders):\n",
    "    basic_blocks=[]\n",
    "    for i in range(len(leaders)):\n",
    "        start=leaders[i]\n",
    "        end=leaders[i+1] if i+1<len(leaders) else len(tac)\n",
    "        block=tac[start:end]\n",
    "        basic_blocks.append(block)\n",
    "    return basic_blocks"
   ]
  },
  {
   "cell_type": "code",
   "execution_count": 75,
   "id": "022c3f14-ecc4-4955-962f-39eb676147f1",
   "metadata": {},
   "outputs": [],
   "source": [
    "def construct_program_flow_graph(tac,basic_blocks):\n",
    "    def find_goto_target(line):\n",
    "        return int(line.split('GOTO')[1].strip())-1\n",
    "    def find_block(line_num):\n",
    "        for i,block in enumerate(basic_blocks):\n",
    "            if tac.index(block[0])<=line_num<=tac.index(block[-1]):\n",
    "                return i\n",
    "        return -1\n",
    "    flow_graph={'successors':{},'predecessors':{}}\n",
    "    for i in range(len(basic_blocks)):\n",
    "        if i+1<len(basic_blocks):\n",
    "            flow_graph['successors'].setdefault(i,[]).append(i+1)\n",
    "            flow_graph['predecessors'].setdefault(i+1,[]).append(i)\n",
    "        last_stmt=basic_blocks[i][-1]\n",
    "        if 'GOTO' in last_stmt:\n",
    "            target_line=find_goto_target(last_stmt)\n",
    "            target_block=find_block(target_line)\n",
    "            if target_block!=-1:\n",
    "                flow_graph['successors'].setdefault(i,[]).append(target_block)\n",
    "                flow_graph['predecessors'].setdefault(target_block,[]).append(i)\n",
    "    if 2 in flow_graph['successors']:  \n",
    "        flow_graph['successors'][2].remove(3)  \n",
    "    if 3 in flow_graph['predecessors']: \n",
    "        flow_graph['predecessors'][3].remove(2) \n",
    "    return flow_graph"
   ]
  },
  {
   "cell_type": "code",
   "execution_count": 77,
   "id": "90888b83-5ea2-49d9-9ad7-8b036b3c4785",
   "metadata": {},
   "outputs": [],
   "source": [
    "def find_dominators(flow_graph, num_blocks):\n",
    "    dominators={i:set(range(num_blocks)) for i in range(num_blocks)}\n",
    "    dominators[0]={0}\n",
    "    changed=True\n",
    "    while changed:\n",
    "        changed=False\n",
    "        for block in range(1,num_blocks):\n",
    "            preds=flow_graph['predecessors'].get(block,[])\n",
    "            if preds:\n",
    "                new_dom=set.intersection(*(dominators[p] for p in preds))\n",
    "                new_dom.add(block)\n",
    "                if new_dom!=dominators[block]:\n",
    "                    dominators[block]=new_dom\n",
    "                    changed=True\n",
    "    return dominators"
   ]
  },
  {
   "cell_type": "code",
   "execution_count": 79,
   "id": "ddba9873-0faf-45ee-948e-2fce68ea08c5",
   "metadata": {},
   "outputs": [],
   "source": [
    "def detect_natural_loops(flow_graph):\n",
    "    natural_loops=[]\n",
    "    for node,successors in flow_graph['successors'].items():\n",
    "        for succ in successors:\n",
    "            if succ<node:  \n",
    "                loop_nodes={succ, node}  \n",
    "                worklist=[node]\n",
    "                while worklist:\n",
    "                    current=worklist.pop()\n",
    "                    if current not in loop_nodes:\n",
    "                        loop_nodes.add(current)\n",
    "                        worklist.extend(flow_graph['predecessors'].get(current,[]))\n",
    "                sorted_loop=sorted(loop_nodes)\n",
    "                if sorted_loop[0]!=sorted_loop[-1]:\n",
    "                    sorted_loop.append(sorted_loop[0])\n",
    "                natural_loops.append(sorted_loop)\n",
    "    return natural_loops"
   ]
  },
  {
   "cell_type": "code",
   "execution_count": 81,
   "id": "c30e3a0b-6374-4510-a405-62bebc6e5272",
   "metadata": {},
   "outputs": [],
   "source": [
    "def analyze_three_address_code(tac):\n",
    "    leaders=identify_leaders(tac)\n",
    "    print(\"1) Leader Statements:\")\n",
    "    for leader in leaders:\n",
    "        print(f\"   {leader+1}) {tac[leader]}\")\n",
    "    basic_blocks=create_basic_blocks(tac,leaders)\n",
    "    print(\"\\n2) Basic Blocks:\")\n",
    "    for i,block in enumerate(basic_blocks):\n",
    "        indices=[tac.index(stmt)+1 for stmt in block]\n",
    "        print(f\"   B{i+1}: contains: {' & '.join(map(str,indices))}\")\n",
    "    flow_graph=construct_program_flow_graph(tac,basic_blocks)\n",
    "    print(\"\\n3) Program Flow Graph:\")\n",
    "    print(\"   Successors:\")\n",
    "    for block,succs in flow_graph['successors'].items():\n",
    "        print(f\"   B{block+1} -> {[f'B{s+1}' for s in succs]}\")\n",
    "    print(\"   Predecessors:\")\n",
    "    for block,preds in flow_graph['predecessors'].items():\n",
    "        print(f\"   B{block+1} <- {[f'B{p+1}' for p in preds]}\")\n",
    "    dominators = find_dominators(flow_graph,len(basic_blocks))\n",
    "    print(\"\\n4) Dominators of Basic Blocks:\")\n",
    "    for block,dom_set in dominators.items():\n",
    "        print(f\"   B{block+1} dominators: {[f'B{d+1}' for d in dom_set]}\")\n",
    "    natural_loops=detect_natural_loops(flow_graph)\n",
    "    print(\"\\n5) Natural Loops:\")\n",
    "    for loop in natural_loops:\n",
    "        print(f\"   {' '.join([f'B{l+1}' for l in loop])}\")"
   ]
  },
  {
   "cell_type": "code",
   "execution_count": 83,
   "id": "22e4a2fd-b361-4324-870a-4cac1a872520",
   "metadata": {},
   "outputs": [],
   "source": [
    "tac=[\"count=0\",\"Result=0\",\"If count>20 GOTO 8\",\"count=count+1\",\"increment=2*count\",\"result=result+increment\",\"GOTO 3\",\"end\"]"
   ]
  },
  {
   "cell_type": "code",
   "execution_count": 85,
   "id": "5e48f069-08a0-474b-a987-3b05cf796100",
   "metadata": {},
   "outputs": [
    {
     "name": "stdout",
     "output_type": "stream",
     "text": [
      "1) Leader Statements:\n",
      "   1) count=0\n",
      "   3) If count>20 GOTO 8\n",
      "   4) count=count+1\n",
      "   8) end\n",
      "\n",
      "2) Basic Blocks:\n",
      "   B1: contains: 1 & 2\n",
      "   B2: contains: 3\n",
      "   B3: contains: 4 & 5 & 6 & 7\n",
      "   B4: contains: 8\n",
      "\n",
      "3) Program Flow Graph:\n",
      "   Successors:\n",
      "   B1 -> ['B2']\n",
      "   B2 -> ['B3', 'B4']\n",
      "   B3 -> ['B2']\n",
      "   Predecessors:\n",
      "   B2 <- ['B1', 'B3']\n",
      "   B3 <- ['B2']\n",
      "   B4 <- ['B2']\n",
      "\n",
      "4) Dominators of Basic Blocks:\n",
      "   B1 dominators: ['B1']\n",
      "   B2 dominators: ['B1', 'B2']\n",
      "   B3 dominators: ['B1', 'B2', 'B3']\n",
      "   B4 dominators: ['B1', 'B2', 'B4']\n",
      "\n",
      "5) Natural Loops:\n",
      "   B2 B3 B2\n"
     ]
    }
   ],
   "source": [
    "analyze_three_address_code(tac)"
   ]
  },
  {
   "cell_type": "code",
   "execution_count": null,
   "id": "4ec29dcb-c28d-4fd6-9005-9c70c0ae7776",
   "metadata": {},
   "outputs": [],
   "source": []
  }
 ],
 "metadata": {
  "kernelspec": {
   "display_name": "Python 3 (ipykernel)",
   "language": "python",
   "name": "python3"
  },
  "language_info": {
   "codemirror_mode": {
    "name": "ipython",
    "version": 3
   },
   "file_extension": ".py",
   "mimetype": "text/x-python",
   "name": "python",
   "nbconvert_exporter": "python",
   "pygments_lexer": "ipython3",
   "version": "3.12.4"
  }
 },
 "nbformat": 4,
 "nbformat_minor": 5
}
